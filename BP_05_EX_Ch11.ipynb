{
  "nbformat": 4,
  "nbformat_minor": 0,
  "metadata": {
    "colab": {
      "provenance": [],
      "authorship_tag": "ABX9TyP5my+ZIQf5L1cPHoB07tZQ",
      "include_colab_link": true
    },
    "kernelspec": {
      "name": "python3",
      "display_name": "Python 3"
    },
    "language_info": {
      "name": "python"
    }
  },
  "cells": [
    {
      "cell_type": "markdown",
      "metadata": {
        "id": "view-in-github",
        "colab_type": "text"
      },
      "source": [
        "<a href=\"https://colab.research.google.com/github/ssseungjin/BP_05_Ch11/blob/main/BP_05_EX_Ch11.ipynb\" target=\"_parent\"><img src=\"https://colab.research.google.com/assets/colab-badge.svg\" alt=\"Open In Colab\"/></a>"
      ]
    },
    {
      "cell_type": "code",
      "execution_count": null,
      "metadata": {
        "id": "ddSn_0TLKZl-"
      },
      "outputs": [],
      "source": [
        "\n",
        "\n",
        "filename = input(\"파일 이름을 입력하시오: \")\n",
        "infile = open(filename,'r')\n",
        "count = 0\n",
        "for line in infile:\n",
        "    line = line.rstrip()\n",
        "    for s in line:\n",
        "        count +=1\n",
        "\n",
        "print(\"파일 안에는 총 %s 개의 글자가 있습니다.\" %count)\n",
        "\n",
        "#공백을 포함한 글자 수 \n"
      ]
    },
    {
      "cell_type": "code",
      "source": [
        "infilename = input(\"파일 이름을 입력하세요: \").strip()\n",
        "infile = open(infilename, \"r\")\n",
        "file_s = infile.read()\n",
        "remove = input(\"삭제할 문자열을 입력하세요: \").strip()\n",
        "modified_s = file_s.replace(remove, \"\")# 삭제할 문자열을 \"\"로 대체\n",
        "\n",
        "\n",
        "infile.close()\n",
        "outfile = open(infilename, \"w\")# 쓰기 형식으로 파일열기\n",
        "\n",
        "\n",
        "print(modified_s, file = outfile, end = \"\")\n",
        "print(\"변경된 파일이 저장되었습니다.\")\n",
        "outfile.close()\n"
      ],
      "metadata": {
        "id": "hQQPZ6-tVNaw"
      },
      "execution_count": null,
      "outputs": []
    },
    {
      "cell_type": "code",
      "source": [
        "filename = input(\"입력 파일 이름: \").strip()\n",
        "infile = open(filename, \"r\")\n",
        "\n",
        "\n",
        "def func(line, counter):\n",
        "for c in line:\n",
        "if c.isalpha():#영문자인지를 판단\n",
        "if c in counter:\n",
        "counter[c] = counter[c] + 1# 같은 문자 수를 카운트\n",
        "else:\n",
        "counter[c] = 1\n",
        "\n",
        "\n",
        "dic = { }\n",
        "for line in infile:\n",
        "func(line, dic)\n",
        "print(dic)\n",
        "infile.close()"
      ],
      "metadata": {
        "id": "CorxTWHYVQcd"
      },
      "execution_count": null,
      "outputs": []
    },
    {
      "cell_type": "code",
      "source": [
        "import pickle\n",
        "\n",
        "\n",
        "#pickle모듈을 사용해 저장\n",
        "outfile = open(\"test.dat\", \"wb\")#저장장소 설정\n",
        "pickle.dump(12, outfile)\n",
        "pickle.dump(3.14, outfile)\n",
        "pickle.dump([1, 2, 3, 4, 5], outfile)\n",
        "outfile.close()\n",
        "\n",
        "\n",
        "#pickle모듈을 사용해 읽기\n",
        "infile = open(\"test.dat\", \"rb\")#읽을파일 지정\n",
        "print(pickle.load(infile))\n",
        "print(pickle.load(infile))\n",
        "print(pickle.load(infile))\n",
        "infile.close()"
      ],
      "metadata": {
        "colab": {
          "base_uri": "https://localhost:8080/"
        },
        "id": "BEQJ3p50bal4",
        "outputId": "140b7cb7-4699-4108-cfe5-c06f0af9901f"
      },
      "execution_count": 36,
      "outputs": [
        {
          "output_type": "stream",
          "name": "stdout",
          "text": [
            "12\n",
            "3.14\n",
            "[1, 2, 3, 4, 5]\n"
          ]
        }
      ]
    },
    {
      "cell_type": "code",
      "source": [
        "a = input(\"입력 파일 이름: \")\n",
        "b = input(\"출력 파일 이름: \")\n",
        "\n",
        "\n",
        "infile = open(a, \"r\")\n",
        "outfile = open(b, \"w\")\n",
        "\n",
        "\n",
        "t = 0.0\n",
        "c = 0\n",
        "\n",
        "\n",
        "line = infile.readline()\n",
        "while line != \"\" :\n",
        "k = float(line)\n",
        "t = t + k\n",
        "c = c + 1\n",
        "line = infile.readline()\n",
        "\n",
        "\n",
        "outfile.write(\"합계=\"+ str(t)+\"\\n\")\n",
        "\n",
        "\n",
        "avg = t / c\n",
        "outfile.write(\"평균=\"+ str(avg)+\"\\n\")\n",
        "\n",
        "\n",
        "infile.close()\n",
        "outfile.close()"
      ],
      "metadata": {
        "id": "kZE3kDa6bfeE"
      },
      "execution_count": null,
      "outputs": []
    },
    {
      "cell_type": "code",
      "source": [],
      "metadata": {
        "id": "CW__e9e-blv_"
      },
      "execution_count": null,
      "outputs": []
    }
  ]
}